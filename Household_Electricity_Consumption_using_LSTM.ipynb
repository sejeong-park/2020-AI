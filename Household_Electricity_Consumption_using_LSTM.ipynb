{
  "nbformat": 4,
  "nbformat_minor": 0,
  "metadata": {
    "colab": {
      "name": "Household Electricity Consumption using LSTM",
      "provenance": [],
      "collapsed_sections": [],
      "authorship_tag": "ABX9TyNpzp80kydJGyAAvgXMHt1m",
      "include_colab_link": true
    },
    "kernelspec": {
      "name": "python3",
      "display_name": "Python 3"
    }
  },
  "cells": [
    {
      "cell_type": "markdown",
      "metadata": {
        "id": "view-in-github",
        "colab_type": "text"
      },
      "source": [
        "<a href=\"https://colab.research.google.com/github/sejeong-park/2020-AI/blob/master/Household_Electricity_Consumption_using_LSTM.ipynb\" target=\"_parent\"><img src=\"https://colab.research.google.com/assets/colab-badge.svg\" alt=\"Open In Colab\"/></a>"
      ]
    },
    {
      "cell_type": "code",
      "metadata": {
        "id": "6bOB3QbR_vj5"
      },
      "source": [
        "from math import sqrt\r\n",
        "from numpy import split\r\n",
        "from numpy import array\r\n",
        "from pandas import read_csv\r\n",
        "from sklearn.metrics import mean_squared_error\r\n",
        "from matplotlib import pyplot\r\n",
        "from keras.models import Sequential\r\n",
        "from keras.layers import Dense\r\n",
        "from keras.layers import Flatten\r\n",
        "from keras.layers import LSTM\r\n",
        "from keras.layers import RepeatVector\r\n",
        "from keras.layers import TimeDistributed\r\n",
        "from keras.layers import ConvLSTM2D\r\n",
        "\r\n",
        "\r\n",
        "\r\n",
        "from keras import Model, layers\r\n",
        "from keras.models import load_model, model_from_json"
      ],
      "execution_count": 1,
      "outputs": []
    },
    {
      "cell_type": "code",
      "metadata": {
        "id": "dEyEpPXbAMKV"
      },
      "source": [
        "# split a univariate dataset into train/test sets\r\n",
        "def split_dataset(data):\r\n",
        "    # split into standard weeks\r\n",
        "    train, test = data[1:-328], data[-328:-6]\r\n",
        "    # restructure into windows of weekly data\r\n",
        "    train = array(split(train, len(train)/7))\r\n",
        "    test = array(split(test, len(test)/7))\r\n",
        "    return train, test"
      ],
      "execution_count": 16,
      "outputs": []
    },
    {
      "cell_type": "code",
      "metadata": {
        "id": "VvBNLb_1AMHk"
      },
      "source": [
        "# evaluate one or more weekly forecasts against expected values\r\n",
        "def evaluate_forecasts(actual, predicted):\r\n",
        "    scores = list()\r\n",
        "    # calculate an RMSE score for each day\r\n",
        "    for i in range(actual.shape[1]):\r\n",
        "        # calculate mse\r\n",
        "        mse = mean_squared_error(actual[:, i], predicted[:, i])\r\n",
        "        # calculate rmse\r\n",
        "        rmse = sqrt(mse)\r\n",
        "        scores.append(rmse)\r\n",
        "    # calculate overall RMSE\r\n",
        "    s = 0\r\n",
        "    for row in range(actual.shape[0]):\r\n",
        "        for col in range(actual.shape[1]):\r\n",
        "            s += (actual[row, col] - predicted[row, col])**2\r\n",
        "    score = sqrt(s / (actual.shape[0] * actual.shape[1]))\r\n",
        "    return score, scores"
      ],
      "execution_count": 17,
      "outputs": []
    },
    {
      "cell_type": "code",
      "metadata": {
        "id": "62PhzVW7AMFM"
      },
      "source": [
        "# summarize scores\r\n",
        "def summarize_scores(name, score, scores):\r\n",
        "    s_scores = ', '.join(['%.1f' % s for s in scores])\r\n",
        "    print('%s: [%.3f] %s' % (name, score, s_scores))"
      ],
      "execution_count": 18,
      "outputs": []
    },
    {
      "cell_type": "code",
      "metadata": {
        "id": "KtNmn5tBAMCU"
      },
      "source": [
        "# convert history into inputs and outputs\r\n",
        "def to_supervised(train, n_input, n_out=7):\r\n",
        "    # flatten data\r\n",
        "    data = train.reshape((train.shape[0]*train.shape[1], train.shape[2]))\r\n",
        "    X, y = list(), list()\r\n",
        "    in_start = 0\r\n",
        "    # step over the entire history one time step at a time\r\n",
        "    for _ in range(len(data)):\r\n",
        "        # define the end of the input sequence\r\n",
        "        in_end = in_start + n_input\r\n",
        "        out_end = in_end + n_out\r\n",
        "        # ensure we have enough data for this instance\r\n",
        "        if out_end < len(data):\r\n",
        "            x_input = data[in_start:in_end, 0]\r\n",
        "            x_input = x_input.reshape((len(x_input), 1))\r\n",
        "            X.append(x_input)\r\n",
        "            y.append(data[in_end:out_end, 0])\r\n",
        "        # move along one time step\r\n",
        "        in_start += 1\r\n",
        "    return array(X), array(y)"
      ],
      "execution_count": 19,
      "outputs": []
    },
    {
      "cell_type": "code",
      "metadata": {
        "id": "iHddRFgfAL51"
      },
      "source": [
        "\r\n",
        "# train the model\r\n",
        "def build_and_train_model(train, n_steps, n_length, n_input):\r\n",
        "    # prepare data\r\n",
        "    train_x, train_y = to_supervised(train, n_input)\r\n",
        "    # define parameters\r\n",
        "    verbose, epochs, batch_size = 1, 20, 16\r\n",
        "    n_features, n_outputs = train_x.shape[2], train_y.shape[1]\r\n",
        "    # reshape into subsequences [samples, timesteps, rows, cols, channels]\r\n",
        "    train_x = train_x.reshape((train_x.shape[0], n_steps, 1, n_length, n_features))\r\n",
        "    # reshape output into [samples, timesteps, features]\r\n",
        "    train_y = train_y.reshape((train_y.shape[0], train_y.shape[1], 1))\r\n",
        "    # define model\r\n",
        "    model = Sequential()\r\n",
        "    model.add(ConvLSTM2D(filters=64, kernel_size=(1,3), activation='relu', input_shape=(n_steps, 1, n_length, n_features)))\r\n",
        "    model.add(Flatten())\r\n",
        "    model.add(RepeatVector(n_outputs))\r\n",
        "    model.add(LSTM(200, activation='relu', return_sequences=True))\r\n",
        "    model.add(TimeDistributed(Dense(100, activation='relu')))\r\n",
        "    model.add(TimeDistributed(Dense(1)))\r\n",
        "    model.compile(loss='mse', optimizer='adam')\r\n",
        "    # fit network\r\n",
        "    model.fit(train_x, train_y, epochs=epochs, batch_size=batch_size, verbose=verbose)\r\n",
        "    return model"
      ],
      "execution_count": 20,
      "outputs": []
    },
    {
      "cell_type": "code",
      "metadata": {
        "id": "0vTVggcjAYvd"
      },
      "source": [
        "\r\n",
        "# make a forecast\r\n",
        "def forecast(model, history, n_steps, n_length, n_input):\r\n",
        "    # flatten data\r\n",
        "    data = array(history)\r\n",
        "    data = data.reshape((data.shape[0]*data.shape[1], data.shape[2]))\r\n",
        "    # retrieve last observations for input data\r\n",
        "    input_x = data[-n_input:, 0]\r\n",
        "    # reshape into [samples, timesteps, rows, cols, channels]\r\n",
        "    input_x = input_x.reshape((1, n_steps, 1, n_length, 1))\r\n",
        "    # forecast the next week\r\n",
        "    yhat = model.predict(input_x, verbose=0)\r\n",
        "    # we only want the vector forecast\r\n",
        "    yhat = yhat[0]\r\n",
        "    return yhat"
      ],
      "execution_count": 21,
      "outputs": []
    },
    {
      "cell_type": "code",
      "metadata": {
        "id": "MTppPMvQAYsU"
      },
      "source": [
        "# evaluate a single model\r\n",
        "def evaluate_model(train, test, n_steps, n_length, n_input):\r\n",
        "    # fit model\r\n",
        "    model = build_and_train_model(train, n_steps, n_length, n_input)\r\n",
        "    model.save('models/ConvLSTM_Encoder-Decoder_Univariate_input_Model.h5')\r\n",
        "\r\n",
        "    # architecture to JSON, weights to HDF5\r\n",
        "    model.save_weights('models/ConvLSTM_Encoder-Decoder_Univariate_input_Model_Weights.h5')\r\n",
        "    with open('models/ConvLSTM_Encoder-Decoder_Univariate_input_Model_architecture.json', 'w') as f:\r\n",
        "            f.write(model.to_json())\r\n",
        "    # history is a list of weekly data\r\n",
        "    history = [x for x in train]\r\n",
        "    # walk-forward validation over each week\r\n",
        "    predictions = list()\r\n",
        "    for i in range(len(test)):\r\n",
        "        # predict the week\r\n",
        "        yhat_sequence = forecast(model, history, n_steps, n_length, n_input)\r\n",
        "        # store the predictions\r\n",
        "        predictions.append(yhat_sequence)\r\n",
        "        # get real observation and add to history for predicting the next week\r\n",
        "        history.append(test[i, :])\r\n",
        "    # evaluate predictions days for each week\r\n",
        "    predictions = array(predictions)\r\n",
        "    score, scores = evaluate_forecasts(test[:, :, 0], predictions)\r\n",
        "    return score, scores"
      ],
      "execution_count": 22,
      "outputs": []
    },
    {
      "cell_type": "code",
      "metadata": {
        "id": "KcDb_Y3KAYpd"
      },
      "source": [
        "\r\n",
        "def load_pretrained_model(train, test, n_steps, n_length, n_input):\r\n",
        "    # architecture and weights from HDF5\r\n",
        "    model = load_model('models/ConvLSTM_Encoder-Decoder_Univariate_input_Model.h5')\r\n",
        "\r\n",
        "    # architecture from JSON, weights from HDF5\r\n",
        "    with open('models/ConvLSTM_Encoder-Decoder_Univariate_input_Model_architecture.json') as f:\r\n",
        "        model = model_from_json(f.read())\r\n",
        "    model.load_weights('models/ConvLSTM_Encoder-Decoder_Univariate_input_Model_Weights.h5')\r\n",
        "    \r\n",
        "    \r\n",
        "    # history is a list of weekly data\r\n",
        "    history = [x for x in train]\r\n",
        "    # walk-forward validation over each week\r\n",
        "    predictions = list()\r\n",
        "    for i in range(len(test)):\r\n",
        "        # predict the week\r\n",
        "        yhat_sequence = forecast(model, history, n_steps, n_length, n_input)\r\n",
        "        # store the predictions\r\n",
        "        predictions.append(yhat_sequence)\r\n",
        "        # get real observation and add to history for predicting the next week\r\n",
        "        history.append(test[i, :])\r\n",
        "    # evaluate predictions days for each week\r\n",
        "    predictions = array(predictions)\r\n",
        "    score, scores = evaluate_forecasts(test[:, :, 0], predictions)\r\n",
        "    return score, scores"
      ],
      "execution_count": 23,
      "outputs": []
    },
    {
      "cell_type": "code",
      "metadata": {
        "colab": {
          "base_uri": "https://localhost:8080/"
        },
        "id": "BoxrJs_pAYmV",
        "outputId": "78bca5ca-bfdb-4c2c-87b8-d549f115f6b4"
      },
      "source": [
        "# load the new file\r\n",
        "dataset = read_csv('household_power_consumption_days.csv', header=0, infer_datetime_format=True, parse_dates=['datetime'], index_col=['datetime'])\r\n",
        "# split into train and test\r\n",
        "train, test = split_dataset(dataset.values)\r\n",
        "# define the number of subsequences and the length of subsequences\r\n",
        "n_steps, n_length = 2, 7\r\n",
        "# define the total days to use as input\r\n",
        "n_input = n_length * n_steps\r\n",
        "score, scores = evaluate_model(train, test, n_steps, n_length, n_input)\r\n",
        "# summarize scores\r\n",
        "summarize_scores('convlstm', score, scores)"
      ],
      "execution_count": 25,
      "outputs": [
        {
          "output_type": "stream",
          "text": [
            "Epoch 1/20\n",
            "69/69 [==============================] - 6s 38ms/step - loss: 1329154.7866\n",
            "Epoch 2/20\n",
            "69/69 [==============================] - 2s 36ms/step - loss: 337640.8531\n",
            "Epoch 3/20\n",
            "69/69 [==============================] - 3s 39ms/step - loss: 287847.9562\n",
            "Epoch 4/20\n",
            "69/69 [==============================] - 3s 40ms/step - loss: 253798.0942\n",
            "Epoch 5/20\n",
            "69/69 [==============================] - 3s 37ms/step - loss: 263027.0973\n",
            "Epoch 6/20\n",
            "69/69 [==============================] - 3s 37ms/step - loss: 257380.0897\n",
            "Epoch 7/20\n",
            "69/69 [==============================] - 2s 35ms/step - loss: 247502.6054\n",
            "Epoch 8/20\n",
            "69/69 [==============================] - 2s 36ms/step - loss: 230260.7739\n",
            "Epoch 9/20\n",
            "69/69 [==============================] - 3s 37ms/step - loss: 221466.8189\n",
            "Epoch 10/20\n",
            "69/69 [==============================] - 2s 35ms/step - loss: 225735.8545\n",
            "Epoch 11/20\n",
            "69/69 [==============================] - 2s 35ms/step - loss: 221054.8152\n",
            "Epoch 12/20\n",
            "69/69 [==============================] - 2s 35ms/step - loss: 223222.9634\n",
            "Epoch 13/20\n",
            "69/69 [==============================] - 3s 38ms/step - loss: 199596.6772\n",
            "Epoch 14/20\n",
            "69/69 [==============================] - 3s 39ms/step - loss: 210746.7342\n",
            "Epoch 15/20\n",
            "69/69 [==============================] - 3s 37ms/step - loss: 202609.1882\n",
            "Epoch 16/20\n",
            "69/69 [==============================] - 3s 37ms/step - loss: 211634.1275\n",
            "Epoch 17/20\n",
            "69/69 [==============================] - 3s 38ms/step - loss: 220817.3426\n",
            "Epoch 18/20\n",
            "69/69 [==============================] - 3s 38ms/step - loss: 224436.6679\n",
            "Epoch 19/20\n",
            "69/69 [==============================] - 3s 37ms/step - loss: 217267.4980\n",
            "Epoch 20/20\n",
            "69/69 [==============================] - 3s 36ms/step - loss: 206778.6442\n",
            "convlstm: [377.218] 383.7, 417.3, 346.5, 359.4, 375.2, 305.9, 437.2\n"
          ],
          "name": "stdout"
        }
      ]
    },
    {
      "cell_type": "code",
      "metadata": {
        "colab": {
          "base_uri": "https://localhost:8080/",
          "height": 279
        },
        "id": "1pefiz42AkXj",
        "outputId": "a4184f16-df98-4b16-9989-5bfeb1d1083b"
      },
      "source": [
        "# plot scores\r\n",
        "days_label = ['sun', 'mon', 'tue', 'wed', 'thr', 'fri', 'sat']\r\n",
        "days = [0, 1, 2, 3, 4, 5, 6]\r\n",
        "pyplot.plot(days, scores, marker='o', label='convlstm')\r\n",
        "pyplot.xlabel(days_label)\r\n",
        "pyplot.ylabel(\"RMSE Daily Forecast Error\")\r\n",
        "pyplot.show()"
      ],
      "execution_count": 27,
      "outputs": [
        {
          "output_type": "display_data",
          "data": {
            "image/png": "[encoded data removed]",
            "text/plain": [
              "<Figure size 432x288 with 1 Axes>"
            ]
          },
          "metadata": {
            "tags": [],
            "needs_background": "light"
          }
        }
      ]
    }
  ]
}