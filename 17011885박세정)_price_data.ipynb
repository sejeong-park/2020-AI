{
  "nbformat": 4,
  "nbformat_minor": 0,
  "metadata": {
    "colab": {
      "name": "17011885박세정) price_data",
      "provenance": [],
      "collapsed_sections": [],
      "authorship_tag": "ABX9TyOtt0kzi3uglhOH7znIawgI",
      "include_colab_link": true
    },
    "kernelspec": {
      "name": "python3",
      "display_name": "Python 3"
    }
  },
  "cells": [
    {
      "cell_type": "markdown",
      "metadata": {
        "id": "view-in-github",
        "colab_type": "text"
      },
      "source": [
        "<a href=\"https://colab.research.google.com/github/sejeong-park/2020AI/blob/master/17011885%EB%B0%95%EC%84%B8%EC%A0%95)_price_data.ipynb\" target=\"_parent\"><img src=\"https://colab.research.google.com/assets/colab-badge.svg\" alt=\"Open In Colab\"/></a>"
      ]
    },
    {
      "cell_type": "code",
      "metadata": {
        "id": "br4Qliv6oSDe",
        "colab_type": "code",
        "outputId": "3e7d5c9c-3281-44ed-9adb-d98a84fb8b2c",
        "colab": {
          "base_uri": "https://localhost:8080/",
          "height": 105
        }
      },
      "source": [
        "\n",
        "\n",
        "! curl 'https://raw.githubusercontent.com/sejongresearch/2020.Spring.AI/master/HW/cabbage_price.csv' -o 'cabbage_price.csv'\n",
        "print('Done..\\n')\n"
      ],
      "execution_count": 1,
      "outputs": [
        {
          "output_type": "stream",
          "text": [
            "  % Total    % Received % Xferd  Average Speed   Time    Time     Time  Current\n",
            "                                 Dload  Upload   Total   Spent    Left  Speed\n",
            "\r  0     0    0     0    0     0      0      0 --:--:-- --:--:-- --:--:--     0\r100 93044  100 93044    0     0   362k      0 --:--:-- --:--:-- --:--:--  362k\n",
            "Done..\n",
            "\n"
          ],
          "name": "stdout"
        }
      ]
    },
    {
      "cell_type": "code",
      "metadata": {
        "id": "d0tDpJRVnbgO",
        "colab_type": "code",
        "outputId": "cbcfe915-4a7b-4010-b130-ea4fb5c1b57c",
        "colab": {
          "base_uri": "https://localhost:8080/",
          "height": 193
        }
      },
      "source": [
        "import numpy as np\n",
        "\n",
        "xy=np.loadtxt('cabbage_price.csv',delimiter=',',dtype=np.float32,skiprows=1,usecols=range(1,6))\n",
        "x_data=xy[:,0:-1]\n",
        "y_data=xy[:,[-1]]\n",
        "\n",
        "print(x_data[:5])\n",
        "print(y_data[:5])\n"
      ],
      "execution_count": 2,
      "outputs": [
        {
          "output_type": "stream",
          "text": [
            "[[ -4.9 -11.    0.9   0. ]\n",
            " [ -3.1  -5.5   5.5   0.8]\n",
            " [ -2.9  -6.9   1.4   0. ]\n",
            " [ -1.8  -5.1   2.2   5.9]\n",
            " [ -5.2  -8.7  -1.8   0.7]]\n",
            "[[2123.]\n",
            " [2123.]\n",
            " [2123.]\n",
            " [2020.]\n",
            " [2060.]]\n"
          ],
          "name": "stdout"
        }
      ]
    },
    {
      "cell_type": "code",
      "metadata": {
        "id": "G-I5KSfcqc4X",
        "colab_type": "code",
        "outputId": "2c3b0a9e-4943-40d7-f721-455bb08b3cf1",
        "colab": {
          "base_uri": "https://localhost:8080/",
          "height": 1000
        }
      },
      "source": [
        "import matplotlib.pyplot as plt\n",
        "\n",
        "import torch\n",
        "import torch.optim as optim\n",
        "\n",
        "torch.manual_seed(1) \n",
        "\n",
        "#데이터 불러오기\n",
        "x_train=torch.FloatTensor(x_data)\n",
        "y_train=torch.FloatTensor(y_data)\n",
        "\n",
        "#모델 초기화\n",
        "W=torch.zeros((4,1),requires_grad=True)\n",
        "b=torch.zeros(1,requires_grad=True)\n",
        "optimizer=optim.SGD([W,b],lr=0.000005)\n",
        "print(\"=============\")\n",
        "print(\" 학습 시작\")\n",
        "print(\"=============\")\n",
        "\n",
        "nb_epochs=100000\n",
        "for epoch in range(nb_epochs+1):\n",
        "  \n",
        "  #Optimizer설정\n",
        "\n",
        "  #H(x) 계산  \n",
        "  hypothesis=x_train.matmul(W)+b\n",
        "  #cost 계산\n",
        "  cost=torch.mean((hypothesis-y_train)**2)\n",
        "\n",
        "  #cost로 H(x)개선\n",
        "  optimizer.zero_grad() #gradient로 초기화\n",
        "  cost.backward() #gradient 계산\n",
        "  optimizer.step() #step으로 개선\n",
        "\n",
        "  if(epoch%10000==0):\n",
        "    print(\"\")\n",
        "    print(\"##Epoch {:4d}/{} hypothesis: {} cost: {:f}\\n\".format(epoch,nb_epochs,hypothesis.squeeze().detach(),cost.item()))\n",
        "    print(\"배추가격: \",hypothesis[0])\n",
        "\n",
        "print(\"=============\")\n",
        "print(\" 학습 끝\")\n",
        "print(\"=============\")\n"
      ],
      "execution_count": 3,
      "outputs": [
        {
          "output_type": "stream",
          "text": [
            "=============\n",
            " 학습 시작\n",
            "=============\n",
            "\n",
            "##Epoch    0/100000 hypothesis: tensor([0., 0., 0.,  ..., 0., 0., 0.]) cost: 12610017.000000\n",
            "\n",
            "배추가격:  tensor([0.], grad_fn=<SelectBackward>)\n",
            "\n",
            "##Epoch 10000/100000 hypothesis: tensor([2269.9897, 2361.5781, 1639.1727,  ..., 2338.6965, 2056.6987,\n",
            "        1812.9722]) cost: 2299145.500000\n",
            "\n",
            "배추가격:  tensor([2269.9897], grad_fn=<SelectBackward>)\n",
            "\n",
            "##Epoch 20000/100000 hypothesis: tensor([2549.9695, 2603.2261, 1834.0632,  ..., 2503.3640, 2199.7830,\n",
            "        1948.0869]) cost: 2271455.250000\n",
            "\n",
            "배추가격:  tensor([2549.9695], grad_fn=<SelectBackward>)\n",
            "\n",
            "##Epoch 30000/100000 hypothesis: tensor([2577.3958, 2640.8452, 1858.3857,  ..., 2521.2627, 2216.3054,\n",
            "        1964.8660]) cost: 2265627.250000\n",
            "\n",
            "배추가격:  tensor([2577.3958], grad_fn=<SelectBackward>)\n",
            "\n",
            "##Epoch 40000/100000 hypothesis: tensor([2580.5322, 2658.6592, 1866.2627,  ..., 2525.0249, 2220.6355,\n",
            "        1970.2399]) cost: 2260081.500000\n",
            "\n",
            "배추가격:  tensor([2580.5322], grad_fn=<SelectBackward>)\n",
            "\n",
            "##Epoch 50000/100000 hypothesis: tensor([2581.2209, 2674.2190, 1872.4377,  ..., 2527.3540, 2223.7344,\n",
            "        1974.4570]) cost: 2254620.250000\n",
            "\n",
            "배추가격:  tensor([2581.2209], grad_fn=<SelectBackward>)\n",
            "\n",
            "##Epoch 60000/100000 hypothesis: tensor([2582.1519, 2689.7490, 1878.7269,  ..., 2529.8281, 2226.9565,\n",
            "        1978.7802]) cost: 2249243.000000\n",
            "\n",
            "배추가격:  tensor([2582.1519], grad_fn=<SelectBackward>)\n",
            "\n",
            "##Epoch 70000/100000 hypothesis: tensor([2582.9565, 2705.0229, 1884.8907,  ..., 2532.2134, 2230.0996,\n",
            "        1983.0221]) cost: 2243940.000000\n",
            "\n",
            "배추가격:  tensor([2582.9565], grad_fn=<SelectBackward>)\n",
            "\n",
            "##Epoch 80000/100000 hypothesis: tensor([2583.4858, 2719.8711, 1890.8217,  ..., 2534.4116, 2233.0811,\n",
            "        1987.1069]) cost: 2238715.500000\n",
            "\n",
            "배추가격:  tensor([2583.4858], grad_fn=<SelectBackward>)\n",
            "\n",
            "##Epoch 90000/100000 hypothesis: tensor([2583.7969, 2734.3818, 1896.5803,  ..., 2536.4814, 2235.9573,\n",
            "        1991.0908]) cost: 2233548.750000\n",
            "\n",
            "배추가격:  tensor([2583.7969], grad_fn=<SelectBackward>)\n",
            "\n",
            "##Epoch 100000/100000 hypothesis: tensor([2584.4805, 2748.9272, 1902.5245,  ..., 2538.7412, 2238.9924,\n",
            "        1995.2128]) cost: 2228475.000000\n",
            "\n",
            "배추가격:  tensor([2584.4805], grad_fn=<SelectBackward>)\n",
            "=============\n",
            " 학습 끝\n",
            "=============\n"
          ],
          "name": "stdout"
        }
      ]
    },
    {
      "cell_type": "code",
      "metadata": {
        "id": "lTGP1RVoZFb_",
        "colab_type": "code",
        "outputId": "ed789c7f-22a0-4031-95ea-fe8122fe8c49",
        "colab": {
          "base_uri": "https://localhost:8080/",
          "height": 87
        }
      },
      "source": [
        "avg_temp=float(input(\"평균 온도: \"))\n",
        "min_temp=float(input(\"최저 온도: \"))\n",
        "max_temp=float(input(\"최고 온도: \"))\n",
        "rain_fall=float(input(\"강수량: \")\n",
        ")"
      ],
      "execution_count": 6,
      "outputs": [
        {
          "output_type": "stream",
          "text": [
            "평균 온도: -2.7\n",
            "최저 온도: -6.6\n",
            "최고 온도: 2.0\n",
            "강수량: 0.1\n"
          ],
          "name": "stdout"
        }
      ]
    },
    {
      "cell_type": "code",
      "metadata": {
        "id": "FXlk73XqZaGS",
        "colab_type": "code",
        "outputId": "993d679b-4553-4aaa-95ab-9f0d857cac71",
        "colab": {
          "base_uri": "https://localhost:8080/",
          "height": 34
        }
      },
      "source": [
        "data=(avg_temp,min_temp,max_temp,rain_fall)\n",
        "arr=np.array(data,dtype=np.float32)\n",
        "result=torch.FloatTensor(arr)\n",
        "\n",
        "price=result.matmul(W)+b\n",
        "\n",
        "\n",
        "print(\"배추 측정 값: \",price)\n"
      ],
      "execution_count": 7,
      "outputs": [
        {
          "output_type": "stream",
          "text": [
            "배추 측정 값:  tensor([2000.4530], grad_fn=<AddBackward0>)\n"
          ],
          "name": "stdout"
        }
      ]
    }
  ]
}